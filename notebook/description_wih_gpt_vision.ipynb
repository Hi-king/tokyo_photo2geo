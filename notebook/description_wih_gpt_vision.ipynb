version https://git-lfs.github.com/spec/v1
oid sha256:05e7ff492117e6359d8b21fa6a904cb3a0a01b56494b351ab5f53e637823f1cc
size 7231
