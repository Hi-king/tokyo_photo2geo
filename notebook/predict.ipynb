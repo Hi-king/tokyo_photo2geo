version https://git-lfs.github.com/spec/v1
oid sha256:464414bf99b8946ba4ca2b40fce643b87fac943c4cf3719ff7b766c01d5babfe
size 2624506
